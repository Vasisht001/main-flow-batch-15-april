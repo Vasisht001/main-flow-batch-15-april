{
 "cells": [
  {
   "cell_type": "code",
   "execution_count": 1,
   "id": "b5a6952c-cb37-4efb-b76a-7f2a61ae0239",
   "metadata": {},
   "outputs": [
    {
     "name": "stdout",
     "output_type": "stream",
     "text": [
      "Updated list: [10, 2, 4, 5, 6]\n"
     ]
    }
   ],
   "source": [
    "# Creating a list\n",
    "my_list = [1, 2, 3, 4, 5]\n",
    "\n",
    "# Adding an element to the list\n",
    "my_list.append(6)\n",
    "\n",
    "# Removing an element from the list\n",
    "my_list.remove(3)\n",
    "\n",
    "# Modifying an element in the list\n",
    "my_list[0] = 10\n",
    "\n",
    "print(\"Updated list:\", my_list)"
   ]
  },
  {
   "cell_type": "code",
   "execution_count": 2,
   "id": "fe6269b7-9d3a-460c-aeac-942da8ae03de",
   "metadata": {},
   "outputs": [
    {
     "name": "stdout",
     "output_type": "stream",
     "text": [
      "Updated Dictionary: {'name': 'John', 'city': 'Mumbai', 'gender': 'Male'}\n"
     ]
    }
   ],
   "source": [
    "# Creating a dictionary\n",
    "my_dict = {'name': 'John', 'age': 25, 'city': 'Delhi'}\n",
    "\n",
    "# Adding an element to the dictionary\n",
    "my_dict['gender'] = 'Male'\n",
    "\n",
    "# Removing an element from the dictionary\n",
    "del my_dict['age']\n",
    "\n",
    "# Modifying an element in the dictionary\n",
    "my_dict['city'] = 'Mumbai'\n",
    "\n",
    "print(\"Updated Dictionary:\", my_dict)"
   ]
  },
  {
   "cell_type": "code",
   "execution_count": 4,
   "id": "85692d0d-8aa7-4ed7-8037-b9971f73e62f",
   "metadata": {},
   "outputs": [
    {
     "name": "stdout",
     "output_type": "stream",
     "text": [
      "Updated Set: {2, 4, 5, 6, 10}\n"
     ]
    }
   ],
   "source": [
    "# Creating a set\n",
    "my_set = {1, 2, 3, 4, 5}\n",
    "\n",
    "# Adding an element to the set\n",
    "my_set.add(6)\n",
    "\n",
    "# Removing an element from the set\n",
    "my_set.remove(3)\n",
    "\n",
    "# Modifying an element in the set\n",
    "my_set.discard(1)\n",
    "my_set.add(10)\n",
    "\n",
    "print(\"Updated Set:\", my_set)"
   ]
  },
  {
   "cell_type": "code",
   "execution_count": null,
   "id": "72283583-874b-47fb-9c89-a192a5ca6792",
   "metadata": {},
   "outputs": [],
   "source": []
  }
 ],
 "metadata": {
  "kernelspec": {
   "display_name": "Python 3 (ipykernel)",
   "language": "python",
   "name": "python3"
  },
  "language_info": {
   "codemirror_mode": {
    "name": "ipython",
    "version": 3
   },
   "file_extension": ".py",
   "mimetype": "text/x-python",
   "name": "python",
   "nbconvert_exporter": "python",
   "pygments_lexer": "ipython3",
   "version": "3.9.6"
  }
 },
 "nbformat": 4,
 "nbformat_minor": 5
}
